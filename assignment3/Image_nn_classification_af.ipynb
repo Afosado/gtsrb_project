{
 "cells": [
  {
   "cell_type": "code",
   "execution_count": 1,
   "metadata": {},
   "outputs": [],
   "source": [
    "import cv2\n",
    "import torch\n",
    "import pandas as pd\n",
    "import numpy as np\n",
    "from PIL import Image\n",
    "from sklearn.model_selection import train_test_split\n",
    "import torch\n",
    "import torch.nn as nn\n",
    "import torch.nn.functional as F\n",
    "from sklearn import preprocessing\n",
    "import matplotlib.pyplot as plt"
   ]
  },
  {
   "cell_type": "code",
   "execution_count": 2,
   "metadata": {},
   "outputs": [],
   "source": [
    "def image_arrs(paths, im_arr):\n",
    "    for path in paths:\n",
    "        #read images, may need to change filepath\n",
    "        image = cv2.imread('../../GTSRB/'+path)\n",
    "        image_from_array = Image.fromarray(image, 'RGB')\n",
    "        #resize all images to 30x30\n",
    "        size_image = image_from_array.resize((30, 30))\n",
    "        #convert images to array\n",
    "        image_arr = np.array(size_image.getdata(),\n",
    "                        np.uint8).reshape(size_image.size[1], size_image.size[0], 3)\n",
    "        im_arr.append(image_arr.flatten())\n",
    "    return im_arr"
   ]
  },
  {
   "cell_type": "code",
   "execution_count": 3,
   "metadata": {},
   "outputs": [],
   "source": [
    "#this may take a minute\n",
    "#may need to change file path\n",
    "df = pd.read_csv('../../GTSRB/Train.csv')\n",
    "#all filepaths for class 0-9\n",
    "paths0 = df[(df['ClassId']==0)]['Path'].values\n",
    "paths1 = df[(df['ClassId']==1)]['Path'].values\n",
    "paths2 = df[(df['ClassId']==2)]['Path'].values\n",
    "paths3 = df[(df['ClassId']==3)]['Path'].values\n",
    "paths4 = df[(df['ClassId']==4)]['Path'].values\n",
    "paths5 = df[(df['ClassId']==5)]['Path'].values\n",
    "paths6 = df[(df['ClassId']==6)]['Path'].values\n",
    "paths7 = df[(df['ClassId']==7)]['Path'].values\n",
    "paths8 = df[(df['ClassId']==8)]['Path'].values\n",
    "paths9 = df[(df['ClassId']==9)]['Path'].values\n",
    "\n",
    "class0_arrs = []\n",
    "class0_arrs = image_arrs(paths0, class0_arrs)\n",
    "\n",
    "class1_arrs = []\n",
    "class1_arrs = image_arrs(paths1, class1_arrs)\n",
    "\n",
    "class2_arrs = []\n",
    "class2_arrs = image_arrs(paths2, class2_arrs)\n",
    "\n",
    "class3_arrs = []\n",
    "class3_arrs = image_arrs(paths3, class3_arrs)\n",
    "\n",
    "class4_arrs = []\n",
    "class4_arrs = image_arrs(paths4, class4_arrs)\n",
    "\n",
    "class5_arrs = []\n",
    "class5_arrs = image_arrs(paths5, class5_arrs)\n",
    "\n",
    "class6_arrs = []\n",
    "class6_arrs = image_arrs(paths6, class6_arrs)\n",
    "\n",
    "class7_arrs = []\n",
    "class7_arrs = image_arrs(paths7, class7_arrs)\n",
    "\n",
    "class8_arrs = []\n",
    "class8_arrs = image_arrs(paths8, class8_arrs)\n",
    "\n",
    "class9_arrs = []\n",
    "class9_arrs = image_arrs(paths9, class9_arrs)"
   ]
  },
  {
   "cell_type": "code",
   "execution_count": 4,
   "metadata": {},
   "outputs": [],
   "source": [
    "#concat data and labels \n",
    "X = class0_arrs + class1_arrs + class2_arrs + class3_arrs + class4_arrs + class5_arrs +\\\n",
    "class6_arrs + class7_arrs + class8_arrs + class9_arrs\n",
    "y = len(class0_arrs)*[0] + len(class1_arrs)*[1] + len(class2_arrs)*[2] + len(class3_arrs)*[3] +\\\n",
    "len(class4_arrs)*[4] + len(class5_arrs)*[5] + len(class6_arrs)*[6] + len(class7_arrs)*[7] +\\\n",
    "len(class8_arrs)*[8] + len(class9_arrs)*[9]"
   ]
  },
  {
   "cell_type": "code",
   "execution_count": 5,
   "metadata": {},
   "outputs": [
    {
     "data": {
      "text/plain": [
       "<matplotlib.image.AxesImage at 0x27bc85d6860>"
      ]
     },
     "execution_count": 5,
     "metadata": {},
     "output_type": "execute_result"
    },
    {
     "data": {
      "image/png": "[encoded data removed]",
      "text/plain": [
       "<Figure size 432x288 with 1 Axes>"
      ]
     },
     "metadata": {
      "needs_background": "light"
     },
     "output_type": "display_data"
    }
   ],
   "source": [
    "ex1 = X[0].reshape(30, 30, 3)\n",
    "plt.imshow(ex1)"
   ]
  },
  {
   "cell_type": "code",
   "execution_count": 6,
   "metadata": {},
   "outputs": [
    {
     "data": {
      "text/plain": [
       "366.75"
      ]
     },
     "execution_count": 6,
     "metadata": {},
     "output_type": "execute_result"
    }
   ],
   "source": [
    "len(X)*.8/32"
   ]
  },
  {
   "cell_type": "code",
   "execution_count": 7,
   "metadata": {},
   "outputs": [
    {
     "data": {
      "text/plain": [
       "11736.0"
      ]
     },
     "execution_count": 7,
     "metadata": {},
     "output_type": "execute_result"
    }
   ],
   "source": [
    "len(X)*.8"
   ]
  },
  {
   "cell_type": "code",
   "execution_count": 8,
   "metadata": {},
   "outputs": [],
   "source": [
    "#mean and std of each column is 0, 1\n",
    "X = preprocessing.scale(X)\n",
    "\n",
    "#split data\n",
    "X_train, X_test, y_train, y_test = train_test_split(\n",
    "    np.array(X), np.array(y), test_size=0.2, random_state=0)"
   ]
  },
  {
   "cell_type": "code",
   "execution_count": 9,
   "metadata": {},
   "outputs": [],
   "source": [
    "#Convert from numpy array to tensor\n",
    "X_train = torch.from_numpy(X_train).float()\n",
    "y_train = torch.from_numpy(y_train).long()\n",
    "X_test = torch.from_numpy(X_test).float()\n",
    "y_test = torch.from_numpy(y_test).long()"
   ]
  },
  {
   "cell_type": "code",
   "execution_count": 10,
   "metadata": {},
   "outputs": [],
   "source": [
    "class ANN(nn.Module):\n",
    "    def __init__(self, D):\n",
    "        super().__init__()\n",
    "        self.linear1 = nn.Linear(D, 1000)\n",
    "        self.linear2 = nn.Linear(1000, 500)\n",
    "        self.linear3 = nn.Linear(500, 10)\n",
    "        \n",
    "    def forward(self, x):\n",
    "        x = torch.tanh(self.linear1(x))\n",
    "        x = torch.tanh(self.linear2(x))\n",
    "        x = torch.tanh(self.linear3(x))\n",
    "        return x"
   ]
  },
  {
   "cell_type": "code",
   "execution_count": 11,
   "metadata": {},
   "outputs": [
    {
     "data": {
      "text/plain": [
       "device(type='cuda', index=0)"
      ]
     },
     "execution_count": 11,
     "metadata": {},
     "output_type": "execute_result"
    }
   ],
   "source": [
    "device = torch.device(\"cuda:0\" if torch.cuda.is_available() else \"cpu\")\n",
    "device"
   ]
  },
  {
   "cell_type": "code",
   "execution_count": 12,
   "metadata": {},
   "outputs": [],
   "source": [
    "model = ANN(X_train.shape[1])"
   ]
  },
  {
   "cell_type": "code",
   "execution_count": 13,
   "metadata": {},
   "outputs": [],
   "source": [
    "model.to(device);"
   ]
  },
  {
   "cell_type": "code",
   "execution_count": 14,
   "metadata": {},
   "outputs": [],
   "source": [
    "criterion = nn.CrossEntropyLoss()\n",
    "optimizer = torch.optim.Adam(model.parameters(), lr=.00003)"
   ]
  },
  {
   "cell_type": "code",
   "execution_count": 15,
   "metadata": {},
   "outputs": [
    {
     "name": "stdout",
     "output_type": "stream",
     "text": [
      "Final training accuracy: 0.9400988817214966\n",
      "Final test accuracy: 0.9021813273429871\n"
     ]
    }
   ],
   "source": [
    "#number of iterations\n",
    "epochs = 600\n",
    "\n",
    "#used to keep track of the changes in accuracy and loss\n",
    "running_loss = 0\n",
    "train_accs = []\n",
    "test_accs = []\n",
    "losses = []\n",
    "\n",
    "#train on gpu\n",
    "X_train = X_train.to(device)\n",
    "y_train = y_train.to(device)\n",
    "X_test = X_test.to(device)\n",
    "y_test = y_test.to(device)\n",
    "\n",
    "#training loop\n",
    "for e in range(epochs):\n",
    "\n",
    "    #standard training steps\n",
    "    pred = model.forward(X_train)\n",
    "    loss = criterion(pred, y_train)\n",
    "    running_loss += loss.item()\n",
    "    optimizer.zero_grad()\n",
    "    loss.backward()\n",
    "    optimizer.step()\n",
    "    \n",
    "    #store current loss and accuracy for test and training set\n",
    "    if e%25==0 and e>0:\n",
    "        running_loss /= 100\n",
    "#         print(\"epoch:\", e, \"loss\", running_loss/100)\n",
    "        losses.append(running_loss)\n",
    "        running_loss = 0\n",
    "        pred = torch.argmax(pred, axis=1)\n",
    "        train_acc = torch.sum(pred==y_train).float()/len(pred)\n",
    "#         print('training accuracy:', train_acc.item())\n",
    "        train_accs.append(train_acc.item())\n",
    "        test_pred = model.forward(X_test)\n",
    "        test_pred = torch.argmax(test_pred, axis=1)\n",
    "        test_acc = torch.sum(test_pred==y_test).float()/len(test_pred)\n",
    "#         print('test accuracy:', test_acc.item())\n",
    "        test_accs.append(test_acc.item())\n",
    "print('Final training accuracy:', train_accs[-1])\n",
    "print('Final test accuracy:', test_accs[-1])"
   ]
  },
  {
   "cell_type": "code",
   "execution_count": 16,
   "metadata": {},
   "outputs": [
    {
     "name": "stdout",
     "output_type": "stream",
     "text": [
      "tensor([-0.9753, -0.9820, -0.8896, -0.6270, -0.6092,  0.8808, -0.8568, -0.9157,\n",
      "        -0.6473, -0.8328], device='cuda:0', grad_fn=<SelectBackward>)\n"
     ]
    }
   ],
   "source": [
    "print(pred[0])"
   ]
  },
  {
   "cell_type": "code",
   "execution_count": 17,
   "metadata": {},
   "outputs": [
    {
     "data": {
      "image/png": "[encoded data removed]",
      "text/plain": [
       "<Figure size 432x288 with 1 Axes>"
      ]
     },
     "metadata": {
      "needs_background": "light"
     },
     "output_type": "display_data"
    },
    {
     "data": {
      "image/png": "[encoded data removed]",
      "text/plain": [
       "<Figure size 432x288 with 1 Axes>"
      ]
     },
     "metadata": {
      "needs_background": "light"
     },
     "output_type": "display_data"
    }
   ],
   "source": [
    "plt.plot(train_accs, label='Train Accuracy')\n",
    "plt.plot(test_accs, label='Test Accuracy')\n",
    "plt.title('Accuracy vs. Iterations')\n",
    "plt.xlabel('Iteration')\n",
    "plt.ylabel('Accuracy (%)')\n",
    "plt.legend()\n",
    "plt.show()\n",
    "plt.plot(losses)\n",
    "plt.title('Loss vs. Iterations')\n",
    "plt.xlabel('Iteration')\n",
    "plt.ylabel('Loss')\n",
    "plt.show()"
   ]
  },
  {
   "cell_type": "code",
   "execution_count": 18,
   "metadata": {},
   "outputs": [],
   "source": [
    "class ANN2(nn.Module):\n",
    "    def __init__(self, D):\n",
    "        super().__init__()\n",
    "        self.linear1 = nn.Linear(D, 500)\n",
    "        self.linear2 = nn.Linear(500, 250)\n",
    "        self.linear3 = nn.Linear(250, 125)\n",
    "        self.linear4 = nn.Linear(125, 50)\n",
    "        self.linear5 = nn.Linear(50, 25)\n",
    "        self.linear6 = nn.Linear(25, 10)\n",
    "        \n",
    "    def forward(self, x):\n",
    "        x = torch.tanh(self.linear1(x))\n",
    "        x = torch.tanh(self.linear2(x))\n",
    "        x = torch.tanh(self.linear3(x))\n",
    "        x = torch.tanh(self.linear4(x))\n",
    "        x = torch.tanh(self.linear5(x))\n",
    "        x = torch.tanh(self.linear6(x))\n",
    "        return x"
   ]
  },
  {
   "cell_type": "code",
   "execution_count": 19,
   "metadata": {},
   "outputs": [],
   "source": [
    "model = ANN2(X_train.shape[1])\n",
    "model.to(device);"
   ]
  },
  {
   "cell_type": "code",
   "execution_count": 20,
   "metadata": {},
   "outputs": [],
   "source": [
    "criterion = nn.CrossEntropyLoss()\n",
    "optimizer = torch.optim.Adam(model.parameters(), lr=.0003)"
   ]
  },
  {
   "cell_type": "code",
   "execution_count": 21,
   "metadata": {},
   "outputs": [
    {
     "name": "stdout",
     "output_type": "stream",
     "text": [
      "Final training accuracy: 0.9718814492225647\n",
      "Final test accuracy: 0.93592369556427\n"
     ]
    }
   ],
   "source": [
    "#number of iterations\n",
    "epochs = 700\n",
    "\n",
    "#used to keep track of the changes in accuracy and loss\n",
    "running_loss = 0\n",
    "train_accs = []\n",
    "test_accs = []\n",
    "losses = []\n",
    "\n",
    "#train on gpu\n",
    "X_train = X_train.to(device)\n",
    "y_train = y_train.to(device)\n",
    "X_test = X_test.to(device)\n",
    "y_test = y_test.to(device)\n",
    "\n",
    "#training loop\n",
    "for e in range(epochs):\n",
    "\n",
    "    #standard training steps\n",
    "    pred = model.forward(X_train)\n",
    "    loss = criterion(pred, y_train)\n",
    "    running_loss += loss.item()\n",
    "    optimizer.zero_grad()\n",
    "    loss.backward()\n",
    "    optimizer.step()\n",
    "    \n",
    "    #store current loss and accuracy for test and training set\n",
    "    if e%25==0 and e>0:\n",
    "        running_loss /= 100\n",
    "#         print(\"epoch:\", e, \"loss\", running_loss/100)\n",
    "        losses.append(running_loss)\n",
    "        running_loss = 0\n",
    "        pred = torch.argmax(pred, axis=1)\n",
    "        train_acc = torch.sum(pred==y_train).float()/len(pred)\n",
    "#         print('training accuracy:', train_acc.item())\n",
    "        train_accs.append(train_acc.item())\n",
    "        test_pred = model.forward(X_test)\n",
    "        test_pred = torch.argmax(test_pred, axis=1)\n",
    "        test_acc = torch.sum(test_pred==y_test).float()/len(test_pred)\n",
    "#         print('test accuracy:', test_acc.item())\n",
    "        test_accs.append(test_acc.item())\n",
    "print('Final training accuracy:', train_accs[-1])\n",
    "print('Final test accuracy:', test_accs[-1])"
   ]
  },
  {
   "cell_type": "code",
   "execution_count": 22,
   "metadata": {},
   "outputs": [
    {
     "data": {
      "image/png": "[encoded data removed]",
      "text/plain": [
       "<Figure size 432x288 with 1 Axes>"
      ]
     },
     "metadata": {
      "needs_background": "light"
     },
     "output_type": "display_data"
    },
    {
     "data": {
      "image/png": "[encoded data removed]",
      "text/plain": [
       "<Figure size 432x288 with 1 Axes>"
      ]
     },
     "metadata": {
      "needs_background": "light"
     },
     "output_type": "display_data"
    }
   ],
   "source": [
    "plt.plot(train_accs, label='Train Accuracy')\n",
    "plt.plot(test_accs, label='Test Accuracy')\n",
    "plt.title('Accuracy vs. Iterations')\n",
    "plt.xlabel('Iteration')\n",
    "plt.ylabel('Accuracy (%)')\n",
    "plt.legend()\n",
    "plt.show()\n",
    "plt.plot(losses)\n",
    "plt.title('Loss vs. Iterations')\n",
    "plt.xlabel('Iteration')\n",
    "plt.ylabel('Loss')\n",
    "plt.show()"
   ]
  },
  {
   "cell_type": "code",
   "execution_count": null,
   "metadata": {},
   "outputs": [],
   "source": []
  }
 ],
 "metadata": {
  "kernelspec": {
   "display_name": "Python 3",
   "language": "python",
   "name": "python3"
  },
  "language_info": {
   "codemirror_mode": {
    "name": "ipython",
    "version": 3
   },
   "file_extension": ".py",
   "mimetype": "text/x-python",
   "name": "python",
   "nbconvert_exporter": "python",
   "pygments_lexer": "ipython3",
   "version": "3.7.3"
  }
 },
 "nbformat": 4,
 "nbformat_minor": 2
}
