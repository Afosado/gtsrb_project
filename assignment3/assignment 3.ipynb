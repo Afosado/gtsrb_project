{
 "cells": [
  {
   "cell_type": "code",
   "execution_count": 403,
   "metadata": {},
   "outputs": [],
   "source": [
    "import torch\n",
    "import cv2\n",
    "import pandas as pd\n",
    "import numpy as np\n",
    "from PIL import Image\n",
    "from sklearn.model_selection import train_test_split\n",
    "import matplotlib.pyplot as plt\n",
    "import torch.nn as nn\n",
    "import torch.nn.functional as F\n",
    "import torch.optim as optim"
   ]
  },
  {
   "cell_type": "code",
   "execution_count": 404,
   "metadata": {},
   "outputs": [],
   "source": [
    "#given code\n",
    "def image_arrs(paths, im_arr):\n",
    "    for path in paths:\n",
    "        image = cv2.imread(path)\n",
    "        image_from_array = Image.fromarray(image, 'RGB')\n",
    "        #resize\n",
    "        size_image = image_from_array.resize((30,30))\n",
    "        image_arr = np.array(size_image.getdata(),np.uint8).reshape(size_image.size[1], size_image.size[0],3)\n",
    "        im_arr.append(image_arr.flatten())\n",
    "    return im_arr"
   ]
  },
  {
   "cell_type": "code",
   "execution_count": 405,
   "metadata": {},
   "outputs": [],
   "source": [
    "#given code\n",
    "#all file paths from classes 1-5\n",
    "df = pd.read_csv('Train.csv')\n",
    "\n",
    "paths1 = df[(df['ClassId'] ==1)]['Path'].values\n",
    "paths2 = df[(df['ClassId'] ==2)]['Path'].values\n",
    "paths3 = df[(df['ClassId'] ==3)]['Path'].values\n",
    "paths4 = df[(df['ClassId'] ==4)]['Path'].values\n",
    "paths5 = df[(df['ClassId'] ==5)]['Path'].values\n",
    "\n",
    "class1_arrs = []\n",
    "class1_arrs = image_arrs(paths1, class1_arrs)\n",
    "\n",
    "class2_arrs = []\n",
    "class2_arrs = image_arrs(paths2, class2_arrs)\n",
    "\n",
    "class3_arrs = []\n",
    "class3_arrs = image_arrs(paths3, class3_arrs)\n",
    "\n",
    "class4_arrs = []\n",
    "class4_arrs = image_arrs(paths4, class4_arrs)\n",
    "\n",
    "class5_arrs = []\n",
    "class5_arrs = image_arrs(paths5, class5_arrs)"
   ]
  },
  {
   "cell_type": "code",
   "execution_count": 406,
   "metadata": {},
   "outputs": [
    {
     "name": "stdout",
     "output_type": "stream",
     "text": [
      "2700\n"
     ]
    }
   ],
   "source": [
    "print(len(class1_arrs[0]))"
   ]
  },
  {
   "cell_type": "code",
   "execution_count": 407,
   "metadata": {},
   "outputs": [],
   "source": [
    "#given code\n",
    "#concat data/labels\n",
    "X = class1_arrs + class2_arrs + class3_arrs + class4_arrs + class5_arrs\n",
    "y = (len(class1_arrs)*[0]) + (len(class2_arrs)*[1]) + (len(class3_arrs)*[2]) + (len(class4_arrs)*[3]) + (len(class5_arrs)*[4])"
   ]
  },
  {
   "cell_type": "code",
   "execution_count": 408,
   "metadata": {},
   "outputs": [],
   "source": [
    "#given code - split data\n",
    "X_train, X_test, y_train, y_test = train_test_split(np.array(X), np.array(y), test_size=0.2, random_state = 0)"
   ]
  },
  {
   "cell_type": "code",
   "execution_count": 409,
   "metadata": {},
   "outputs": [],
   "source": [
    "#given code - convert from np array to tensor\n",
    "X_train = torch.from_numpy(X_train).float()\n",
    "y_train = torch.from_numpy(y_train).long()\n",
    "X_test = torch.from_numpy(X_test).float()\n",
    "y_test = torch.from_numpy(y_test).long()"
   ]
  },
  {
   "cell_type": "code",
   "execution_count": 410,
   "metadata": {},
   "outputs": [],
   "source": [
    "#train data?\n",
    "train_data = []\n",
    "for i in range(len(X_train)):\n",
    "    train_data.append([X_train[i], y_train[i]])\n",
    "\n",
    "test_data = []\n",
    "for i in range(len(X_test)):\n",
    "    test_data.append([X_test[i], y_test[i]])\n",
    "    \n",
    "trainset = torch.utils.data.DataLoader(train_data, batch_size=10, shuffle=True)\n",
    "testset = torch.utils.data.DataLoader(test_data, batch_size=10, shuffle=True)"
   ]
  },
  {
   "cell_type": "code",
   "execution_count": 411,
   "metadata": {},
   "outputs": [
    {
     "name": "stdout",
     "output_type": "stream",
     "text": [
      "778\n"
     ]
    }
   ],
   "source": [
    "total = 0\n",
    "for each in trainset:\n",
    "    total += 1\n",
    "print(total)"
   ]
  },
  {
   "cell_type": "code",
   "execution_count": 418,
   "metadata": {},
   "outputs": [
    {
     "name": "stderr",
     "output_type": "stream",
     "text": [
      "Clipping input data to the valid range for imshow with RGB data ([0..1] for floats or [0..255] for integers).\n"
     ]
    },
    {
     "name": "stdout",
     "output_type": "stream",
     "text": [
      "tensor(0)\n"
     ]
    },
    {
     "data": {
      "image/png": "[encoded data removed]",
      "text/plain": [
       "<Figure size 432x288 with 1 Axes>"
      ]
     },
     "metadata": {
      "needs_background": "light"
     },
     "output_type": "display_data"
    }
   ],
   "source": [
    "x, y = each[0][0], each[1][0]\n",
    "\n",
    "print(y)\n",
    "#why doesn't it show the actual sign?\n",
    "plt.imshow(x.view(30,30,3))\n",
    "plt.show()"
   ]
  },
  {
   "cell_type": "markdown",
   "metadata": {},
   "source": [
    "<h3> Build NN "
   ]
  },
  {
   "cell_type": "code",
   "execution_count": 413,
   "metadata": {},
   "outputs": [
    {
     "name": "stdout",
     "output_type": "stream",
     "text": [
      "Net(\n",
      "  (fc1): Linear(in_features=2700, out_features=10, bias=True)\n",
      "  (fc2): Linear(in_features=10, out_features=30, bias=True)\n",
      "  (fc3): Linear(in_features=30, out_features=60, bias=True)\n",
      "  (fc4): Linear(in_features=60, out_features=60, bias=True)\n",
      "  (fc5): Linear(in_features=60, out_features=60, bias=True)\n",
      "  (fc6): Linear(in_features=60, out_features=30, bias=True)\n",
      "  (fc7): Linear(in_features=30, out_features=5, bias=True)\n",
      ")\n"
     ]
    }
   ],
   "source": [
    "class Net(nn.Module):\n",
    "    \n",
    "    #define layers\n",
    "    def __init__(self):\n",
    "        super().__init__()\n",
    "        self.fc1 = nn.Linear(2700, 10)\n",
    "        self.fc2 = nn.Linear(10,30)\n",
    "        self.fc3 = nn.Linear(30,60)\n",
    "        self.fc4 = nn.Linear(60,60)\n",
    "        self.fc5 = nn.Linear(60,60)\n",
    "        self.fc6 = nn.Linear(60,30)\n",
    "        self.fc7 = nn.Linear(30,5)\n",
    "        \n",
    "    #passing through each layer\n",
    "    def forward(self, x):\n",
    "        x = F.relu(self.fc1(x))\n",
    "        x = F.relu(self.fc2(x))\n",
    "        x = F.relu(self.fc3(x))\n",
    "        x = F.relu(self.fc4(x))\n",
    "        x = F.relu(self.fc5(x))\n",
    "        x = F.relu(self.fc6(x))\n",
    "        x = self.fc7(x)\n",
    "        \n",
    "        return F.log_softmax(x, dim=1)\n",
    "        \n",
    "        \n",
    "net = Net()\n",
    "print(net)"
   ]
  },
  {
   "cell_type": "code",
   "execution_count": 414,
   "metadata": {},
   "outputs": [
    {
     "name": "stdout",
     "output_type": "stream",
     "text": [
      "tensor([[-1.6491, -1.5787, -1.4623, -1.6388, -1.7395]],\n",
      "       grad_fn=<LogSoftmaxBackward>)\n"
     ]
    }
   ],
   "source": [
    "#random input to make sure it works\n",
    "randoms = torch.rand(2700)\n",
    "randoms = randoms.view(-1, 2700)\n",
    "\n",
    "output = net(randoms)\n",
    "print(output)"
   ]
  },
  {
   "cell_type": "code",
   "execution_count": 415,
   "metadata": {
    "scrolled": false
   },
   "outputs": [
    {
     "name": "stdout",
     "output_type": "stream",
     "text": [
      "tensor(1.6588, grad_fn=<NllLossBackward>)\n",
      "tensor(1.6229, grad_fn=<NllLossBackward>)\n",
      "tensor(1.5704, grad_fn=<NllLossBackward>)\n",
      "tensor(1.5781, grad_fn=<NllLossBackward>)\n",
      "tensor(1.6259, grad_fn=<NllLossBackward>)\n",
      "tensor(1.5265, grad_fn=<NllLossBackward>)\n",
      "tensor(1.6746, grad_fn=<NllLossBackward>)\n",
      "tensor(1.6145, grad_fn=<NllLossBackward>)\n",
      "tensor(1.6270, grad_fn=<NllLossBackward>)\n",
      "tensor(1.5694, grad_fn=<NllLossBackward>)\n"
     ]
    }
   ],
   "source": [
    "optimizer = optim.Adam(net.parameters(), lr=0.01)\n",
    "criterion = nn.CrossEntropyLoss()\n",
    "\n",
    "EPOCHS = 1000\n",
    "\n",
    "for epoch in range(EPOCHS):\n",
    "    for data in trainset:\n",
    "        X,y = data\n",
    "        #want gradient to be 0 each time\n",
    "        net.zero_grad()\n",
    "        output = net(X.view(-1,2700))\n",
    "        loss = criterion(output, y)\n",
    "        #backpropagating the loss\n",
    "        loss.backward()\n",
    "        #taking the steps to decrease loss\n",
    "        optimizer.step()\n",
    "    if epoch%100 == 0:\n",
    "        print(loss)\n",
    "        \n",
    "        "
   ]
  },
  {
   "cell_type": "code",
   "execution_count": null,
   "metadata": {},
   "outputs": [],
   "source": []
  },
  {
   "cell_type": "code",
   "execution_count": null,
   "metadata": {},
   "outputs": [],
   "source": []
  },
  {
   "cell_type": "code",
   "execution_count": null,
   "metadata": {},
   "outputs": [],
   "source": []
  }
 ],
 "metadata": {
  "kernelspec": {
   "display_name": "Python 3",
   "language": "python",
   "name": "python3"
  },
  "language_info": {
   "codemirror_mode": {
    "name": "ipython",
    "version": 3
   },
   "file_extension": ".py",
   "mimetype": "text/x-python",
   "name": "python",
   "nbconvert_exporter": "python",
   "pygments_lexer": "ipython3",
   "version": "3.7.3"
  }
 },
 "nbformat": 4,
 "nbformat_minor": 2
}
