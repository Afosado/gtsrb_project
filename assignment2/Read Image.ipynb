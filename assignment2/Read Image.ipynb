{
 "cells": [
  {
   "cell_type": "code",
   "execution_count": 25,
   "metadata": {},
   "outputs": [],
   "source": [
    "import cv2\n",
    "from PIL import Image\n",
    "import pandas as pd\n",
    "import numpy as np"
   ]
  },
  {
   "cell_type": "code",
   "execution_count": 42,
   "metadata": {},
   "outputs": [],
   "source": [
    "#this may take a minute\n",
    "df = pd.read_csv('GTSRB/Train.csv')\n",
    "#all filepaths for class 1 and 2\n",
    "paths2 = df[(df['ClassId']==2)]['Path'].values\n",
    "paths1 = df[(df['ClassId']==1)]['Path'].values\n",
    "\n",
    "class1_arrs = []\n",
    "for path in paths1:\n",
    "    #read images, may need to change filepath\n",
    "    image = cv2.imread('GTSRB/'+path)\n",
    "    image_from_array = Image.fromarray(image, 'RGB')\n",
    "    #resize all images to 30x30\n",
    "    size_image = image_from_array.resize((30, 30))\n",
    "    #convert images to array\n",
    "    image_arr = np.array(size_image.getdata(),\n",
    "                    np.uint8).reshape(size_image.size[1], size_image.size[0], 3)\n",
    "    class1_arrs.append(image_arr)\n",
    "    \n",
    "class2_arrs = []\n",
    "for path in paths2:\n",
    "    #same as above\n",
    "    image = cv2.imread('GTSRB/'+path)\n",
    "    image_from_array = Image.fromarray(image, 'RGB')\n",
    "    size_image = image_from_array.resize((30, 30))\n",
    "    image_arr = np.array(size_image.getdata(),\n",
    "                    np.uint8).reshape(size_image.size[1], size_image.size[0], 3)\n",
    "    class2_arrs.append(image_arr)"
   ]
  },
  {
   "cell_type": "code",
   "execution_count": 50,
   "metadata": {},
   "outputs": [],
   "source": [
    "#concat data and labels \n",
    "X = class1_arrs + class2_arrs\n",
    "y = len(class1_arrs)*[0] + len(class2_arrs)*[1]"
   ]
  },
  {
   "cell_type": "code",
   "execution_count": 51,
   "metadata": {},
   "outputs": [
    {
     "data": {
      "text/plain": [
       "True"
      ]
     },
     "execution_count": 51,
     "metadata": {},
     "output_type": "execute_result"
    }
   ],
   "source": [
    "len(X)==len(y)"
   ]
  },
  {
   "cell_type": "code",
   "execution_count": null,
   "metadata": {},
   "outputs": [],
   "source": []
  },
  {
   "cell_type": "code",
   "execution_count": null,
   "metadata": {},
   "outputs": [],
   "source": []
  },
  {
   "cell_type": "code",
   "execution_count": null,
   "metadata": {},
   "outputs": [],
   "source": []
  }
 ],
 "metadata": {
  "kernelspec": {
   "display_name": "Python 3",
   "language": "python",
   "name": "python3"
  },
  "language_info": {
   "codemirror_mode": {
    "name": "ipython",
    "version": 3
   },
   "file_extension": ".py",
   "mimetype": "text/x-python",
   "name": "python",
   "nbconvert_exporter": "python",
   "pygments_lexer": "ipython3",
   "version": "3.7.3"
  }
 },
 "nbformat": 4,
 "nbformat_minor": 2
}
